{
 "cells": [
  {
   "cell_type": "code",
   "execution_count": 2,
   "metadata": {},
   "outputs": [],
   "source": [
    "from sklearn.datasets import load_iris\n",
    "from sklearn import tree\n",
    "import sys\n",
    "import os       \n",
    "os.environ[\"PATH\"] += os.pathsep + 'C:/Program Files (x86)/Graphviz2.38/bin/'\n"
   ]
  },
  {
   "cell_type": "code",
   "execution_count": 3,
   "metadata": {},
   "outputs": [
    {
     "data": {
      "text/plain": [
       "True"
      ]
     },
     "execution_count": 3,
     "metadata": {},
     "output_type": "execute_result"
    }
   ],
   "source": [
    "# 决策树演示\n",
    "from sklearn.datasets import load_iris\n",
    "from sklearn import tree\n",
    "import pydotplus\n",
    "import os\n",
    "\n",
    "# 导入路径\n",
    "os.environ[\"PATH\"] += os.pathsep + 'C:/Program Files (x86)/Graphviz2.38/bin/'\n",
    "# 导入数据\n",
    "\n",
    "data = [[1,1,0],\n",
    "        [0,1,1],\n",
    "        [1,0,1],\n",
    "        [1,1,2],\n",
    "        [0,0,0],\n",
    "        [1,0,2],\n",
    "        [1,0,2],\n",
    "        [0,0,0],\n",
    "        [0,1,0],\n",
    "        [1,1,1]]\n",
    "target= [ 1,0,0,1,0,0,1,0,1,1 ]\n",
    "feature_names = ['color','shape','Secretion']\n",
    "target_names = ['Non-toxic','toxic']\n",
    "# 构建模型\n",
    "clf = tree.DecisionTreeClassifier()\n",
    "clf = clf.fit(data, target)\n",
    "# 画图，保存到pdf文件\n",
    "# 设置图像参数\n",
    "dot_data = tree.export_graphviz(clf, out_file=None,\n",
    "                         feature_names=feature_names,\n",
    "                         class_names=target_names,\n",
    "                         filled=True, rounded=True,\n",
    "                         special_characters=True)\n",
    "graph = pydotplus.graph_from_dot_data(dot_data)\n",
    "# 保存图像到pdf文件\n",
    "graph.write_pdf(\"visualize.pdf\")\n"
   ]
  },
  {
   "cell_type": "code",
   "execution_count": null,
   "metadata": {},
   "outputs": [],
   "source": []
  }
 ],
 "metadata": {
  "kernelspec": {
   "display_name": "Python 3",
   "language": "python",
   "name": "python3"
  },
  "language_info": {
   "codemirror_mode": {
    "name": "ipython",
    "version": 3
   },
   "file_extension": ".py",
   "mimetype": "text/x-python",
   "name": "python",
   "nbconvert_exporter": "python",
   "pygments_lexer": "ipython3",
   "version": "3.6.2"
  }
 },
 "nbformat": 4,
 "nbformat_minor": 2
}
